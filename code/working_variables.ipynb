{
 "cells": [
  {
   "cell_type": "code",
   "execution_count": 1,
   "metadata": {
    "collapsed": false,
    "scrolled": true
   },
   "outputs": [],
   "source": [
    "import pandas as pd\n",
    "\n",
    "df = pd.read_csv('../data/2nd-saisoku.csv')\n",
    "\n",
    "# 会場hogeに片日でも申込ありなら1、両日なしなら0の作業変数 entry_hoge\n",
    "entry_nagoya = (df['serials_nagoya1'] + df['serials_nagoya2'])\n",
    "df['entry_nagoya'] = entry_nagoya.where(entry_nagoya < 2, 1)\n",
    "\n",
    "entry_kobe = (df['serials_kobe1'] + df['serials_kobe2'])\n",
    "df['entry_kobe'] = entry_kobe.where(entry_kobe < 2, 1)\n",
    "\n",
    "entry_saitama = (df['serials_saitama1'] + df['serials_saitama2'])\n",
    "df['entry_saitama'] = entry_saitama.where(entry_saitama < 2, 1)\n",
    "\n",
    "# 会場hogeで片日でもチケありなら1、両日なしなら0の作業変数 got_hoge\n",
    "got_nagoya = (df['tickets_nagoya1'] + df['tickets_nagoya2'])\n",
    "df['got_nagoya'] = got_nagoya.where(got_nagoya < 2, 1)\n",
    "\n",
    "got_kobe = (df['tickets_kobe1'] + df['tickets_kobe2'])\n",
    "df['got_kobe'] = got_kobe.where(got_kobe < 2, 1)\n",
    "\n",
    "got_saitama = (df['tickets_saitama1'] + df['tickets_saitama2'])\n",
    "df['got_saitama'] = got_saitama.where(got_saitama < 2, 1)\n",
    "\n",
    "df.to_csv('../data/2nd-saisoku.csv', index=False)"
   ]
  }
 ],
 "metadata": {
  "kernelspec": {
   "display_name": "Python 3",
   "language": "python",
   "name": "python3"
  },
  "language_info": {
   "codemirror_mode": {
    "name": "ipython",
    "version": 3
   },
   "file_extension": ".py",
   "mimetype": "text/x-python",
   "name": "python",
   "nbconvert_exporter": "python",
   "pygments_lexer": "ipython3",
   "version": "3.6.0"
  }
 },
 "nbformat": 4,
 "nbformat_minor": 2
}

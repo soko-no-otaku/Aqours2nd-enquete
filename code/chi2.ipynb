{
 "cells": [
  {
   "cell_type": "code",
   "execution_count": 1,
   "metadata": {
    "collapsed": false,
    "scrolled": true
   },
   "outputs": [
    {
     "name": "stdout",
     "output_type": "stream",
     "text": [
      "24\n",
      "123\n",
      "60\n",
      "274\n"
     ]
    }
   ],
   "source": [
    "import pandas as pd\n",
    "\n",
    "# 名古屋-神戸の独立性を検定する\n",
    "# 名古屋と神戸両方に申込ある人だけ対象\n",
    "df = pd.read_csv('../data/2nd-saisoku.csv')\n",
    "entry_nagoya_or_kobe = (df.entry_nagoya > 0) | (df.entry_kobe > 0)\n",
    "got_nagoya_and_kobe = (df.got_nagoya > 0) & (df.got_kobe > 0)\n",
    "got_only_nagoya = (df.got_nagoya > 0) & (df.got_kobe == 0)\n",
    "got_only_kobe = (df.got_nagoya == 0) & (df.got_kobe > 0)\n",
    "got_none = (df.got_nagoya == 0) & (df.got_kobe == 0)\n",
    "\n",
    "# クロス集計表を作る\n",
    "print(len(df[entry_nagoya_or_kobe & got_nagoya_and_kobe].index)) # -> 24\n",
    "print(len(df[entry_nagoya_or_kobe & got_only_nagoya].index))     # -> 123\n",
    "print(len(df[entry_nagoya_or_kobe & got_only_kobe].index))       # -> 60\n",
    "print(len(df[entry_nagoya_or_kobe & got_none].index))            # -> 274"
   ]
  },
  {
   "cell_type": "code",
   "execution_count": 2,
   "metadata": {
    "collapsed": false
   },
   "outputs": [
    {
     "name": "stdout",
     "output_type": "stream",
     "text": [
      "カイ二乗値: 0.0932823165592\n",
      "確率:       0.760045119159\n",
      "自由度:     1\n",
      "期待値(理論値):\n",
      "[[  25.67151767   58.32848233]\n",
      " [ 121.32848233  275.67151767]]\n"
     ]
    }
   ],
   "source": [
    "import numpy as np\n",
    "import scipy as sp\n",
    "import scipy.stats\n",
    "\n",
    "crossed = np.array([[24,60], [123,274]])\n",
    "\n",
    "x2, p, dof, expected = sp.stats.chi2_contingency(crossed)\n",
    "\n",
    "print(\"カイ二乗値: %(x2)s\" %locals())\n",
    "print(\"確率:       %(p)s\" %locals())\n",
    "print(\"自由度:     %(dof)s\" %locals())\n",
    "\n",
    "print(\"期待値(理論値):\")\n",
    "print(expected)"
   ]
  },
  {
   "cell_type": "code",
   "execution_count": 3,
   "metadata": {
    "collapsed": false
   },
   "outputs": [
    {
     "name": "stdout",
     "output_type": "stream",
     "text": [
      "64\n",
      "20\n",
      "413\n",
      "75\n"
     ]
    }
   ],
   "source": [
    "# 神戸-埼玉の独立性を検定する\n",
    "# 神戸と埼玉両方に申込ある人だけ対象\n",
    "\n",
    "entry_kobe_or_saitama = (df.entry_kobe > 0) | (df.entry_saitama > 0)\n",
    "got_kobe_and_saitama = (df.got_kobe > 0) & (df.got_saitama > 0)\n",
    "got_only_kobe = (df.got_kobe > 0) & (df.got_saitama == 0)\n",
    "got_only_saitama = (df.got_kobe == 0) & (df.got_saitama > 0)\n",
    "got_none = (df.got_kobe == 0) & (df.got_saitama == 0)\n",
    "\n",
    "# クロス集計表を作る\n",
    "print(len(df[entry_kobe_or_saitama & got_kobe_and_saitama].index)) # -> 64\n",
    "print(len(df[entry_kobe_or_saitama & got_only_kobe].index))        # -> 20\n",
    "print(len(df[entry_kobe_or_saitama & got_only_saitama].index))     # -> 413\n",
    "print(len(df[entry_kobe_or_saitama & got_none].index))             # -> 75"
   ]
  },
  {
   "cell_type": "code",
   "execution_count": 4,
   "metadata": {
    "collapsed": false
   },
   "outputs": [
    {
     "name": "stdout",
     "output_type": "stream",
     "text": [
      "カイ二乗値: 3.10219276927\n",
      "確率:       0.078186915919\n",
      "自由度:     1\n",
      "期待値(理論値):\n",
      "[[  70.04895105  406.95104895]\n",
      " [  13.95104895   81.04895105]]\n"
     ]
    }
   ],
   "source": [
    "crossed = np.array([[64,413], [20,75]])\n",
    "\n",
    "x2, p, dof, expected = sp.stats.chi2_contingency(crossed)\n",
    "\n",
    "print(\"カイ二乗値: %(x2)s\" %locals())\n",
    "print(\"確率:       %(p)s\" %locals())\n",
    "print(\"自由度:     %(dof)s\" %locals())\n",
    "\n",
    "print(\"期待値(理論値):\")\n",
    "print(expected)"
   ]
  },
  {
   "cell_type": "code",
   "execution_count": 5,
   "metadata": {
    "collapsed": false
   },
   "outputs": [
    {
     "name": "stdout",
     "output_type": "stream",
     "text": [
      "104\n",
      "373\n",
      "43\n",
      "61\n"
     ]
    }
   ],
   "source": [
    "# 埼玉-名古屋の独立性を検定する\n",
    "# 埼玉と名古屋両方に申込ある人だけ対象\n",
    "\n",
    "entry_saitama_or_nagoya = (df.entry_saitama > 0) | (df.entry_nagoya > 0)\n",
    "got_saitama_and_nagoya = (df.got_saitama > 0) & (df.got_nagoya > 0)\n",
    "got_only_saitama = (df.got_saitama > 0) & (df.got_nagoya == 0)\n",
    "got_only_nagoya = (df.got_saitama == 0) & (df.got_nagoya > 0)\n",
    "got_none = (df.got_saitama == 0) & (df.got_nagoya == 0)\n",
    "\n",
    "# クロス集計表を作る\n",
    "print(len(df[entry_saitama_or_nagoya & got_saitama_and_nagoya].index)) # -> 104\n",
    "print(len(df[entry_saitama_or_nagoya & got_only_saitama].index))       # -> 373\n",
    "print(len(df[entry_saitama_or_nagoya & got_only_nagoya].index))        # -> 43\n",
    "print(len(df[entry_saitama_or_nagoya & got_none].index))               # -> 61"
   ]
  },
  {
   "cell_type": "code",
   "execution_count": 6,
   "metadata": {
    "collapsed": false
   },
   "outputs": [
    {
     "name": "stdout",
     "output_type": "stream",
     "text": [
      "カイ二乗値: 16.2363637098\n",
      "確率:       5.59105623558e-05\n",
      "自由度:     1\n",
      "期待値(理論値):\n",
      "[[ 120.68674699   26.31325301]\n",
      " [ 356.31325301   77.68674699]]\n"
     ]
    }
   ],
   "source": [
    "crossed = np.array([[104,43], [373,61]])\n",
    "\n",
    "x2, p, dof, expected = sp.stats.chi2_contingency(crossed)\n",
    "\n",
    "print(\"カイ二乗値: %(x2)s\" %locals())\n",
    "print(\"確率:       %(p)s\" %locals())\n",
    "print(\"自由度:     %(dof)s\" %locals())\n",
    "\n",
    "print(\"期待値(理論値):\")\n",
    "print(expected)"
   ]
  }
 ],
 "metadata": {
  "kernelspec": {
   "display_name": "Python 3",
   "language": "python",
   "name": "python3"
  },
  "language_info": {
   "codemirror_mode": {
    "name": "ipython",
    "version": 3
   },
   "file_extension": ".py",
   "mimetype": "text/x-python",
   "name": "python",
   "nbconvert_exporter": "python",
   "pygments_lexer": "ipython3",
   "version": "3.6.0"
  }
 },
 "nbformat": 4,
 "nbformat_minor": 2
}

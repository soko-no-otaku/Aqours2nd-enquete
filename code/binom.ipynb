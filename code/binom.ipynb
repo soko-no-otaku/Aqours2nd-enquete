{
 "cells": [
  {
   "cell_type": "code",
   "execution_count": 1,
   "metadata": {
    "collapsed": false,
    "scrolled": true
   },
   "outputs": [
    {
     "name": "stdout",
     "output_type": "stream",
     "text": [
      "p値:\n",
      "0.0204709128789\n"
     ]
    }
   ],
   "source": [
    "import pandas as pd\n",
    "import numpy as np\n",
    "from scipy import stats\n",
    "\n",
    "df = pd.read_csv('../data/2nd-saisoku.csv')\n",
    "\n",
    "# 名古屋に両日同数積んだ人だけ抽出\n",
    "# →積み枚数グループ毎に二項検定\n",
    "evenly_nagoya         = df[df.serials_nagoya1 == df.serials_nagoya2]\n",
    "grouped_got_nagoya    = evenly_nagoya.groupby('serials_nagoya1')['got_nagoya'].sum()\n",
    "no_tsumi_got_nagoya   = grouped_got_nagoya[1]\n",
    "tsumi_got_nagoya      = grouped_got_nagoya[2:].sum()\n",
    "grouped_entry_nagoya  = evenly_nagoya.groupby('serials_nagoya1')['timestamp'].count()\n",
    "no_tsumi_entry_nagoya = grouped_entry_nagoya[1]\n",
    "tsumi_entry_nagoya    = grouped_entry_nagoya[2:].sum()\n",
    "\n",
    "p = stats.binom_test(tsumi_got_nagoya, tsumi_entry_nagoya, no_tsumi_got_nagoya / no_tsumi_entry_nagoya)\n",
    "print('p値:')\n",
    "print(p)"
   ]
  },
  {
   "cell_type": "code",
   "execution_count": 2,
   "metadata": {
    "collapsed": false
   },
   "outputs": [
    {
     "name": "stdout",
     "output_type": "stream",
     "text": [
      "p値:\n",
      "0.357285905707\n"
     ]
    }
   ],
   "source": [
    "# 神戸に両日同数積んだ人だけ抽出\n",
    "# →積み枚数グループ毎に二項検定\n",
    "evenly_kobe         = df[df.serials_kobe1 == df.serials_kobe2]\n",
    "grouped_got_kobe    = evenly_kobe.groupby('serials_kobe1')['got_kobe'].sum()\n",
    "no_tsumi_got_kobe   = grouped_got_kobe[1]\n",
    "tsumi_got_kobe      = grouped_got_kobe[2:].sum()\n",
    "grouped_entry_kobe  = evenly_kobe.groupby('serials_kobe1')['timestamp'].count()\n",
    "no_tsumi_entry_kobe = grouped_entry_kobe[1]\n",
    "tsumi_entry_kobe    = grouped_entry_kobe[2:].sum()\n",
    "\n",
    "p = stats.binom_test(tsumi_got_kobe, tsumi_entry_kobe, no_tsumi_got_kobe / no_tsumi_entry_kobe)\n",
    "print('p値:')\n",
    "print(p)"
   ]
  },
  {
   "cell_type": "code",
   "execution_count": 3,
   "metadata": {
    "collapsed": false
   },
   "outputs": [
    {
     "name": "stdout",
     "output_type": "stream",
     "text": [
      "p値:\n",
      "0.000718680239522\n"
     ]
    }
   ],
   "source": [
    "# 埼玉に両日同数積んだ人だけ抽出\n",
    "# →積み枚数グループ毎に二項検定\n",
    "evenly_saitama         = df[df.serials_saitama1 == df.serials_saitama2]\n",
    "grouped_got_saitama    = evenly_saitama.groupby('serials_saitama1')['got_saitama'].sum()\n",
    "no_tsumi_got_saitama   = grouped_got_saitama[1]\n",
    "tsumi_got_saitama      = grouped_got_saitama[2:].sum()\n",
    "grouped_entry_saitama  = evenly_saitama.groupby('serials_saitama1')['timestamp'].count()\n",
    "no_tsumi_entry_saitama = grouped_entry_saitama[1]\n",
    "tsumi_entry_saitama    = grouped_entry_saitama[2:].sum()\n",
    "\n",
    "p = stats.binom_test(tsumi_got_saitama, tsumi_entry_saitama, no_tsumi_got_saitama / no_tsumi_entry_saitama)\n",
    "print('p値:')\n",
    "print(p)"
   ]
  }
 ],
 "metadata": {
  "kernelspec": {
   "display_name": "Python 3",
   "language": "python",
   "name": "python3"
  },
  "language_info": {
   "codemirror_mode": {
    "name": "ipython",
    "version": 3
   },
   "file_extension": ".py",
   "mimetype": "text/x-python",
   "name": "python",
   "nbconvert_exporter": "python",
   "pygments_lexer": "ipython3",
   "version": "3.6.0"
  }
 },
 "nbformat": 4,
 "nbformat_minor": 2
}

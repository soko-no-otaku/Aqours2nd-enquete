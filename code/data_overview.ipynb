{
 "cells": [
  {
   "cell_type": "code",
   "execution_count": 1,
   "metadata": {
    "collapsed": false,
    "scrolled": true
   },
   "outputs": [
    {
     "name": "stdout",
     "output_type": "stream",
     "text": [
      "【名古屋】\n",
      "応募数:\n",
      "430\n",
      "当選数:\n",
      "147\n",
      "当選確率:\n",
      "0.34186046511627904\n",
      "倍率（当選確率の逆数）:\n",
      "2.925170068027211\n",
      "キャパ:\n",
      "10,000人\n"
     ]
    }
   ],
   "source": [
    "import pandas as pd\n",
    "\n",
    "df = pd.read_csv('../data/2nd-saisoku.csv')\n",
    "print('【名古屋】')\n",
    "print('応募数:')\n",
    "print(df['entry_nagoya'].sum())\n",
    "print('当選数:')\n",
    "print(df['got_nagoya'].sum())\n",
    "print('当選確率:')\n",
    "print(df['got_nagoya'].sum() / df['entry_nagoya'].sum())\n",
    "print('倍率（当選確率の逆数）:')\n",
    "print(df['entry_nagoya'].sum() / df['got_nagoya'].sum())\n",
    "print('キャパ:')\n",
    "print('10,000人')"
   ]
  },
  {
   "cell_type": "code",
   "execution_count": 2,
   "metadata": {
    "collapsed": false
   },
   "outputs": [
    {
     "name": "stdout",
     "output_type": "stream",
     "text": [
      "【神戸】\n",
      "応募数:\n",
      "377\n",
      "当選数:\n",
      "84\n",
      "当選確率:\n",
      "0.22281167108753316\n",
      "倍率（当選確率の逆数）:\n",
      "4.488095238095238\n",
      "キャパ:\n",
      "8,000人\n"
     ]
    }
   ],
   "source": [
    "print('【神戸】')\n",
    "print('応募数:')\n",
    "print(df['entry_kobe'].sum())\n",
    "print('当選数:')\n",
    "print(df['got_kobe'].sum())\n",
    "print('当選確率:')\n",
    "print(df['got_kobe'].sum() / df['entry_kobe'].sum())\n",
    "print('倍率（当選確率の逆数）:')\n",
    "print(df['entry_kobe'].sum() / df['got_kobe'].sum())\n",
    "print('キャパ:')\n",
    "print('8,000人')"
   ]
  },
  {
   "cell_type": "code",
   "execution_count": 3,
   "metadata": {
    "collapsed": false
   },
   "outputs": [
    {
     "name": "stdout",
     "output_type": "stream",
     "text": [
      "【埼玉】\n",
      "応募数:\n",
      "514\n",
      "当選数:\n",
      "477\n",
      "当選確率:\n",
      "0.9280155642023347\n",
      "倍率（当選確率の逆数）:\n",
      "1.0775681341719077\n",
      "キャパ:\n",
      "33,556人\n"
     ]
    }
   ],
   "source": [
    "print('【埼玉】')\n",
    "print('応募数:')\n",
    "print(df['entry_saitama'].sum())\n",
    "print('当選数:')\n",
    "print(df['got_saitama'].sum())\n",
    "print('当選確率:')\n",
    "print(df['got_saitama'].sum() / df['entry_saitama'].sum())\n",
    "print('倍率（当選確率の逆数）:')\n",
    "print(df['entry_saitama'].sum() / df['got_saitama'].sum())\n",
    "print('キャパ:')\n",
    "print('33,556人')"
   ]
  },
  {
   "cell_type": "code",
   "execution_count": 4,
   "metadata": {
    "collapsed": false
   },
   "outputs": [
    {
     "data": {
      "text/plain": [
       "<matplotlib.legend.Legend at 0x119fac978>"
      ]
     },
     "execution_count": 4,
     "metadata": {},
     "output_type": "execute_result"
    },
    {
     "data": {
      "image/png": "[encoded data removed]",
      "text/plain": [
       "<matplotlib.figure.Figure at 0x1170dd6a0>"
      ]
     },
     "metadata": {},
     "output_type": "display_data"
    }
   ],
   "source": [
    "import numpy as np\n",
    "from scipy import stats\n",
    "import matplotlib\n",
    "import matplotlib.pyplot as plt\n",
    "% matplotlib inline\n",
    "\n",
    "plt.style.use('ggplot') \n",
    "font = {'family':'Osaka'}\n",
    "matplotlib.rc('font', **font)\n",
    "\n",
    "plt.scatter(x=10000, y=0.34, color='orange', label='名古屋')\n",
    "plt.scatter(x=8000, y=0.22, color='red', label='神戸')\n",
    "plt.scatter(x=33556, y=0.93, color='blue', label='埼玉')\n",
    "\n",
    "# 回帰直線の計算\n",
    "capa = [8000,10000,33556]\n",
    "prob = [0.22,0.34,0.93]\n",
    "a, b, r_value, _, _ = stats.linregress(capa, prob)\n",
    "x = np.arange(0, 40000, 0.1)\n",
    "y = a * x + b\n",
    "plt.plot(x, y, color='black', linestyle='dashed', linewidth=1)\n",
    "\n",
    "plt.title('各会場の収容人数と当選確率の関係')\n",
    "plt.xlabel('収容人数 [人]')\n",
    "plt.ylabel('当選確率')\n",
    "plt.xlim(0, 35000)\n",
    "plt.ylim(0, 1)\n",
    "plt.legend(loc='upper right', bbox_to_anchor=(1.25, 1))"
   ]
  }
 ],
 "metadata": {
  "kernelspec": {
   "display_name": "Python 3",
   "language": "python",
   "name": "python3"
  },
  "language_info": {
   "codemirror_mode": {
    "name": "ipython",
    "version": 3
   },
   "file_extension": ".py",
   "mimetype": "text/x-python",
   "name": "python",
   "nbconvert_exporter": "python",
   "pygments_lexer": "ipython3",
   "version": "3.6.0"
  }
 },
 "nbformat": 4,
 "nbformat_minor": 2
}

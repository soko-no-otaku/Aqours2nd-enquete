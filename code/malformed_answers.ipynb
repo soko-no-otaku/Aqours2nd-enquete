{
 "cells": [
  {
   "cell_type": "code",
   "execution_count": 1,
   "metadata": {
    "collapsed": true
   },
   "outputs": [],
   "source": [
    "import pandas as pd\n",
    "\n",
    "df = pd.read_csv('../data/2nd-saisoku.csv')\n",
    "\n",
    "# 応募していないのに当選\n",
    "no_entry = (((df.serials_nagoya1 == 0) & (df.tickets_nagoya1 > 0))\n",
    "          | ((df.serials_nagoya2 == 0) & (df.tickets_nagoya2 > 0))\n",
    "          | ((df.serials_kobe1 == 0) & (df.tickets_kobe1 > 0))\n",
    "          | ((df.serials_kobe2 == 0) & (df.tickets_kobe2 > 0))\n",
    "          | ((df.serials_saitama1 == 0) & (df.tickets_saitama1 > 0))\n",
    "          | ((df.serials_saitama2 == 0) & (df.tickets_saitama2 > 0)))\n",
    "\n",
    "# 3枚以上当選\n",
    "more_than_2 = ((df.tickets_nagoya1 > 2)\n",
    "             | (df.tickets_nagoya2 > 2)\n",
    "             | (df.tickets_kobe1 > 2)\n",
    "             | (df.tickets_kobe2 > 2)\n",
    "             | (df.tickets_saitama1 > 2)\n",
    "             | (df.tickets_saitama2 > 2))\n",
    "\n",
    "malformed = no_entry | more_than_2\n",
    "df[~malformed].to_csv('../data/2nd-saisoku.csv', index=False)"
   ]
  }
 ],
 "metadata": {
  "kernelspec": {
   "display_name": "Python 3",
   "language": "python",
   "name": "python3"
  },
  "language_info": {
   "codemirror_mode": {
    "name": "ipython",
    "version": 3
   },
   "file_extension": ".py",
   "mimetype": "text/x-python",
   "name": "python",
   "nbconvert_exporter": "python",
   "pygments_lexer": "ipython3",
   "version": "3.6.0"
  }
 },
 "nbformat": 4,
 "nbformat_minor": 2
}
